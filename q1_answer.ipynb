{
 "cells": [
  {
   "cell_type": "code",
   "execution_count": 1,
   "metadata": {},
   "outputs": [],
   "source": [
    "import pandas as pd"
   ]
  },
  {
   "cell_type": "code",
   "execution_count": 2,
   "metadata": {},
   "outputs": [
    {
     "data": {
      "text/html": [
       "<div>\n",
       "<style scoped>\n",
       "    .dataframe tbody tr th:only-of-type {\n",
       "        vertical-align: middle;\n",
       "    }\n",
       "\n",
       "    .dataframe tbody tr th {\n",
       "        vertical-align: top;\n",
       "    }\n",
       "\n",
       "    .dataframe thead th {\n",
       "        text-align: right;\n",
       "    }\n",
       "</style>\n",
       "<table border=\"1\" class=\"dataframe\">\n",
       "  <thead>\n",
       "    <tr style=\"text-align: right;\">\n",
       "      <th></th>\n",
       "      <th>sr_no</th>\n",
       "      <th>uid</th>\n",
       "      <th>program_year</th>\n",
       "      <th>farmer_name</th>\n",
       "      <th>plantation_type_dense_fruit</th>\n",
       "      <th>total_land_area_acre</th>\n",
       "      <th>area_f4f_acre</th>\n",
       "      <th>District</th>\n",
       "      <th>Block</th>\n",
       "      <th>water_available</th>\n",
       "      <th>...</th>\n",
       "      <th>bhendi</th>\n",
       "      <th>shirish</th>\n",
       "      <th>ain</th>\n",
       "      <th>pimpal</th>\n",
       "      <th>vad</th>\n",
       "      <th>tamhan</th>\n",
       "      <th>waval</th>\n",
       "      <th>palas</th>\n",
       "      <th>babhul</th>\n",
       "      <th>bakul</th>\n",
       "    </tr>\n",
       "  </thead>\n",
       "  <tbody>\n",
       "    <tr>\n",
       "      <th>0</th>\n",
       "      <td>1</td>\n",
       "      <td>id_1</td>\n",
       "      <td>2023</td>\n",
       "      <td>farmer_b</td>\n",
       "      <td>Fruit Tree</td>\n",
       "      <td>5</td>\n",
       "      <td>4</td>\n",
       "      <td>A</td>\n",
       "      <td>p</td>\n",
       "      <td>Yes</td>\n",
       "      <td>...</td>\n",
       "      <td>1</td>\n",
       "      <td>0</td>\n",
       "      <td>1</td>\n",
       "      <td>1</td>\n",
       "      <td>1</td>\n",
       "      <td>0</td>\n",
       "      <td>0</td>\n",
       "      <td>1</td>\n",
       "      <td>0</td>\n",
       "      <td>1</td>\n",
       "    </tr>\n",
       "    <tr>\n",
       "      <th>1</th>\n",
       "      <td>2</td>\n",
       "      <td>id_2</td>\n",
       "      <td>2023</td>\n",
       "      <td>farmer_c</td>\n",
       "      <td>Fruit Tree</td>\n",
       "      <td>5</td>\n",
       "      <td>30</td>\n",
       "      <td>A</td>\n",
       "      <td>p</td>\n",
       "      <td>Yes</td>\n",
       "      <td>...</td>\n",
       "      <td>1</td>\n",
       "      <td>0</td>\n",
       "      <td>1</td>\n",
       "      <td>1</td>\n",
       "      <td>1</td>\n",
       "      <td>1</td>\n",
       "      <td>0</td>\n",
       "      <td>0</td>\n",
       "      <td>0</td>\n",
       "      <td>1</td>\n",
       "    </tr>\n",
       "    <tr>\n",
       "      <th>2</th>\n",
       "      <td>3</td>\n",
       "      <td>id_3</td>\n",
       "      <td>2023</td>\n",
       "      <td>farmer_d</td>\n",
       "      <td>Fruit Tree</td>\n",
       "      <td>7</td>\n",
       "      <td>5</td>\n",
       "      <td>A</td>\n",
       "      <td>p</td>\n",
       "      <td>Yes</td>\n",
       "      <td>...</td>\n",
       "      <td>0</td>\n",
       "      <td>2</td>\n",
       "      <td>0</td>\n",
       "      <td>3</td>\n",
       "      <td>0</td>\n",
       "      <td>0</td>\n",
       "      <td>3</td>\n",
       "      <td>3</td>\n",
       "      <td>0</td>\n",
       "      <td>3</td>\n",
       "    </tr>\n",
       "    <tr>\n",
       "      <th>3</th>\n",
       "      <td>4</td>\n",
       "      <td>id_4</td>\n",
       "      <td>2023</td>\n",
       "      <td>farmer_e</td>\n",
       "      <td>Fruit Tree</td>\n",
       "      <td>9</td>\n",
       "      <td>4</td>\n",
       "      <td>A</td>\n",
       "      <td>p</td>\n",
       "      <td>Yes</td>\n",
       "      <td>...</td>\n",
       "      <td>0</td>\n",
       "      <td>4</td>\n",
       "      <td>0</td>\n",
       "      <td>4</td>\n",
       "      <td>0</td>\n",
       "      <td>0</td>\n",
       "      <td>3</td>\n",
       "      <td>3</td>\n",
       "      <td>0</td>\n",
       "      <td>4</td>\n",
       "    </tr>\n",
       "    <tr>\n",
       "      <th>4</th>\n",
       "      <td>5</td>\n",
       "      <td>id_5</td>\n",
       "      <td>2023</td>\n",
       "      <td>farmer_f</td>\n",
       "      <td>Fruit Tree</td>\n",
       "      <td>7</td>\n",
       "      <td>4</td>\n",
       "      <td>A</td>\n",
       "      <td>p</td>\n",
       "      <td>Yes</td>\n",
       "      <td>...</td>\n",
       "      <td>3</td>\n",
       "      <td>3</td>\n",
       "      <td>3</td>\n",
       "      <td>0</td>\n",
       "      <td>0</td>\n",
       "      <td>3</td>\n",
       "      <td>0</td>\n",
       "      <td>3</td>\n",
       "      <td>0</td>\n",
       "      <td>3</td>\n",
       "    </tr>\n",
       "  </tbody>\n",
       "</table>\n",
       "<p>5 rows × 64 columns</p>\n",
       "</div>"
      ],
      "text/plain": [
       "   sr_no   uid  program_year farmer_name plantation_type_dense_fruit  \\\n",
       "0      1  id_1          2023    farmer_b                  Fruit Tree   \n",
       "1      2  id_2          2023    farmer_c                  Fruit Tree   \n",
       "2      3  id_3          2023    farmer_d                  Fruit Tree   \n",
       "3      4  id_4          2023    farmer_e                  Fruit Tree   \n",
       "4      5  id_5          2023    farmer_f                  Fruit Tree   \n",
       "\n",
       "   total_land_area_acre  area_f4f_acre District Block water_available  ...  \\\n",
       "0                     5              4        A     p             Yes  ...   \n",
       "1                     5             30        A     p             Yes  ...   \n",
       "2                     7              5        A     p             Yes  ...   \n",
       "3                     9              4        A     p             Yes  ...   \n",
       "4                     7              4        A     p             Yes  ...   \n",
       "\n",
       "  bhendi shirish ain pimpal vad tamhan waval palas babhul bakul  \n",
       "0      1       0   1      1   1      0     0     1      0     1  \n",
       "1      1       0   1      1   1      1     0     0      0     1  \n",
       "2      0       2   0      3   0      0     3     3      0     3  \n",
       "3      0       4   0      4   0      0     3     3      0     4  \n",
       "4      3       3   3      0   0      3     0     3      0     3  \n",
       "\n",
       "[5 rows x 64 columns]"
      ]
     },
     "execution_count": 2,
     "metadata": {},
     "output_type": "execute_result"
    }
   ],
   "source": [
    "data = pd.read_excel(\"q1_data.xlsx\")\n",
    "data.head()"
   ]
  },
  {
   "cell_type": "markdown",
   "metadata": {},
   "source": [
    "1. Test Case: Validate Initial Farmer Identification\n",
    "- Purpose: Ensure that farmer identification details are captured accurately at the start.\n"
   ]
  },
  {
   "cell_type": "code",
   "execution_count": 3,
   "metadata": {},
   "outputs": [],
   "source": [
    "def test_farmer_identification(data):\n",
    "    assert data['uid'].notnull().all(), \"Farmer ID should not be missing\"\n",
    "    assert data['farmer_name'].notnull().all(), \"Farmer name should not be missing\"\n"
   ]
  },
  {
   "cell_type": "markdown",
   "metadata": {},
   "source": [
    "2. Test Case: Validate Water and Electricity Availability\n",
    "- Purpose: Ensure that the water and electricity availability information is correctly recorded."
   ]
  },
  {
   "cell_type": "code",
   "execution_count": 4,
   "metadata": {},
   "outputs": [],
   "source": [
    "def test_availability(data):\n",
    "    # Validating that water and electricity availability are recorded as valid binary values (Yes/No)\n",
    "    assert data['water_available'].isin([\"Yes\", \"No\"]).all()\n",
    "    assert data['electricity_available'].isin([\"Yes\", \"No\"]).all()\n"
   ]
  },
  {
   "cell_type": "markdown",
   "metadata": {},
   "source": [
    "3. Test Case: Farmer Collect Payment\n",
    "- Purpose: Ensure that the  payment collection is recorded properly and follows a sequential order."
   ]
  },
  {
   "cell_type": "code",
   "execution_count": 5,
   "metadata": {},
   "outputs": [],
   "source": [
    "def test_payment(data):\n",
    "    assert data['farmer_payment_collected'].isin([\"Yes\", \"No\"]).all(), \"All farmers should have payment received after onboarding\""
   ]
  },
  {
   "cell_type": "markdown",
   "metadata": {},
   "source": [
    "4. Test Case: Validate Carbon Credit Training and Contract\n",
    "- Purpose: Ensure that carbon credit training is done and contracts are signed with farmers after payment."
   ]
  },
  {
   "cell_type": "code",
   "execution_count": 6,
   "metadata": {},
   "outputs": [],
   "source": [
    "def test_training_and_contract(data):\n",
    "    # Checking if carbon credit training and contract are completed after payment\n",
    "    assert data['cc_training_uploaded?'].isin([\"Yes\", \"No\"]).all(), \"All farmers should complete carbon credit training\"\n",
    "    assert data['contract uploaded'].isin([\"Yes\", \"No\"]).all(), \"All farmers should sign the contract after training\""
   ]
  },
  {
   "cell_type": "markdown",
   "metadata": {},
   "source": [
    "5. Test Case: Validate Plant and Drip Distribution\n",
    "- Purpose: Ensure that baseline survey conducted after contract signing."
   ]
  },
  {
   "cell_type": "code",
   "execution_count": 10,
   "metadata": {},
   "outputs": [],
   "source": [
    "def baseline_survey(data):\n",
    "    # Validating survey conducted after contract signing\n",
    "    assert data['baseline_survey'].isin([\"Yes\", \"No\"]).all(), \"survey conducted after contract\""
   ]
  },
  {
   "cell_type": "markdown",
   "metadata": {},
   "source": [
    "6. Test Case: Validate Number of Trees Planted\n",
    "- Purpose: Ensure that the number of trees planted is within the expected range (350 to 450 trees).|"
   ]
  },
  {
   "cell_type": "code",
   "execution_count": 11,
   "metadata": {},
   "outputs": [],
   "source": [
    "def test_trees_planted(data):\n",
    "    # Validating that the number of trees planted is between 350 and 450\n",
    "    assert data['trees_planted'].between(350, 450).all(), \"'trees_planted' should be between 350 and 450\""
   ]
  },
  {
   "cell_type": "code",
   "execution_count": null,
   "metadata": {},
   "outputs": [],
   "source": []
  },
  {
   "cell_type": "code",
   "execution_count": null,
   "metadata": {},
   "outputs": [],
   "source": []
  }
 ],
 "metadata": {
  "kernelspec": {
   "display_name": "base",
   "language": "python",
   "name": "python3"
  },
  "language_info": {
   "codemirror_mode": {
    "name": "ipython",
    "version": 3
   },
   "file_extension": ".py",
   "mimetype": "text/x-python",
   "name": "python",
   "nbconvert_exporter": "python",
   "pygments_lexer": "ipython3",
   "version": "3.12.7"
  }
 },
 "nbformat": 4,
 "nbformat_minor": 2
}
